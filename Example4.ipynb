{
  "nbformat": 4,
  "nbformat_minor": 0,
  "metadata": {
    "colab": {
      "provenance": [],
      "authorship_tag": "ABX9TyNt5Z2T2dz12JNZsA6Kiy2S",
      "include_colab_link": true
    },
    "kernelspec": {
      "name": "python3",
      "display_name": "Python 3"
    },
    "language_info": {
      "name": "python"
    }
  },
  "cells": [
    {
      "cell_type": "markdown",
      "metadata": {
        "id": "view-in-github",
        "colab_type": "text"
      },
      "source": [
        "<a href=\"https://colab.research.google.com/github/GoyalChirag31/Python-practice/blob/main/Example4.ipynb\" target=\"_parent\"><img src=\"https://colab.research.google.com/assets/colab-badge.svg\" alt=\"Open In Colab\"/></a>"
      ]
    },
    {
      "cell_type": "markdown",
      "source": [
        "#prompt for someone to enter equation, get it solved"
      ],
      "metadata": {
        "id": "jCbbbZUAw8qL"
      }
    },
    {
      "cell_type": "code",
      "execution_count": null,
      "metadata": {
        "colab": {
          "base_uri": "https://localhost:8080/"
        },
        "id": "LCg9VN4xvr6E",
        "outputId": "72024a6d-0444-4fd2-ef33-3cf2e0b0a9b1"
      },
      "outputs": [
        {
          "output_type": "stream",
          "name": "stdout",
          "text": [
            "enter your equation 0=(x-1)*(x**2-4)\n",
            "x= -2\n",
            "x= 1\n",
            "x= 2\n"
          ]
        }
      ],
      "source": [
        "import sympy\n",
        "from sympy import symbols\n",
        "from sympy.solvers import solve\n",
        "x = symbols('x')\n",
        "eq = input('enter your equation 0=')\n",
        "sol = solve(eq,x)\n",
        "for s in sol:\n",
        "  print(\"x=\",s)\n"
      ]
    },
    {
      "cell_type": "code",
      "source": [
        "import sympy\n",
        "from sympy import symbols\n",
        "from sympy.solvers import solve\n",
        "x = symbols('x')\n",
        "eq=2*x-4\n",
        "sol = solve(eq,x)\n",
        "print('x =',sol[0])"
      ],
      "metadata": {
        "id": "7yr8vakc00HY",
        "colab": {
          "base_uri": "https://localhost:8080/"
        },
        "outputId": "ebc6063c-680a-433b-e905-2b0929d20630"
      },
      "execution_count": 3,
      "outputs": [
        {
          "output_type": "stream",
          "name": "stdout",
          "text": [
            "x = 2\n"
          ]
        }
      ]
    },
    {
      "cell_type": "code",
      "source": [
        "import sympy\n",
        "from sympy import symbols\n",
        "from sympy.solvers import solve\n",
        "x = symbols('x')\n",
        "#below code will make user, enter equation\n",
        "eq = input('Enter equation here, 0 = ')\n",
        "sol = solve(eq,x)\n",
        "print('x =',sol[0])"
      ],
      "metadata": {
        "colab": {
          "base_uri": "https://localhost:8080/"
        },
        "id": "HE6vQ1b9Jnvq",
        "outputId": "dd185888-0172-41be-cc2c-261395e16452"
      },
      "execution_count": 6,
      "outputs": [
        {
          "output_type": "stream",
          "name": "stdout",
          "text": [
            "Enter equation here, 0 = 4*x-16\n",
            "x = 4\n"
          ]
        }
      ]
    },
    {
      "cell_type": "code",
      "source": [
        "import sympy\n",
        "from sympy import symbols\n",
        "from sympy.solvers import solve\n",
        "x = symbols('x')\n",
        "eq = input('Enter equation here, 0 = ')\n",
        "sol = solve(eq,x)\n",
        "for s in sol:\n",
        "  print(\"x =\",s)"
      ],
      "metadata": {
        "colab": {
          "base_uri": "https://localhost:8080/"
        },
        "id": "mNT6KQ3bMr9V",
        "outputId": "6281103b-b2b7-4a84-8365-1233b5c13abc"
      },
      "execution_count": 10,
      "outputs": [
        {
          "output_type": "stream",
          "name": "stdout",
          "text": [
            "Enter equation here, 0 = 3*x**2-12\n",
            "x = -2\n",
            "x = 2\n"
          ]
        }
      ]
    },
    {
      "cell_type": "markdown",
      "source": [
        "# using * in sympy to use two variable\n"
      ],
      "metadata": {
        "id": "OltshPpEPkv0"
      }
    },
    {
      "cell_type": "code",
      "source": [
        "from sympy import *\n",
        "var('x y')\n",
        "first = 2*x- 10\n",
        "eq1= Eq(first,y)\n",
        "sol=solve(eq1,x)\n",
        "print(\"x =\",sol[0])"
      ],
      "metadata": {
        "colab": {
          "base_uri": "https://localhost:8080/"
        },
        "id": "jlli7Wu7NZ1V",
        "outputId": "068d54f1-28ab-4071-8926-70901d515fdd"
      },
      "execution_count": 17,
      "outputs": [
        {
          "output_type": "stream",
          "name": "stdout",
          "text": [
            "x = y/2 + 5\n"
          ]
        }
      ]
    },
    {
      "cell_type": "code",
      "source": [
        "import sympy\n",
        "from sympy import symbols\n",
        "var('x y')\n",
        "example = 3*x - 12\n",
        "equation = Eq(example,0)\n",
        "solution = solve(equation,x)\n",
        "print(solution)"
      ],
      "metadata": {
        "colab": {
          "base_uri": "https://localhost:8080/"
        },
        "id": "sLtkJeLqP-qI",
        "outputId": "c73020ea-72d3-4e5b-85f4-682fbb308e8c"
      },
      "execution_count": 27,
      "outputs": [
        {
          "output_type": "stream",
          "name": "stdout",
          "text": [
            "[4]\n"
          ]
        }
      ]
    },
    {
      "cell_type": "code",
      "source": [
        "from sympy import *\n",
        "var('x y')\n",
        "eq1 = 2*x-7\n",
        "\n",
        "eq2= Eq(eq1,y)\n",
        "solution = solve(eq2,x)\n",
        "print(\"x =\",solution[0])"
      ],
      "metadata": {
        "colab": {
          "base_uri": "https://localhost:8080/"
        },
        "id": "mYrH6EpfQMwE",
        "outputId": "20385852-19d8-4fb9-c5bc-66322a267504"
      },
      "execution_count": 23,
      "outputs": [
        {
          "output_type": "stream",
          "name": "stdout",
          "text": [
            "x = y/2 + 7/2\n"
          ]
        }
      ]
    },
    {
      "cell_type": "code",
      "source": [
        "import sympy\n",
        "from sympy import symbols\n",
        "var('x y')\n",
        "eq1= 2*x + 4*y + 10\n",
        "sympy.factor(eq1)\n"
      ],
      "metadata": {
        "colab": {
          "base_uri": "https://localhost:8080/",
          "height": 39
        },
        "id": "_KrnLqCcRPhF",
        "outputId": "10445ddb-eda1-4ff7-dc7e-6fe7f857fbf8"
      },
      "execution_count": 25,
      "outputs": [
        {
          "output_type": "execute_result",
          "data": {
            "text/plain": [
              "2*(x + 2*y + 5)"
            ],
            "text/latex": "$\\displaystyle 2 \\left(x + 2 y + 5\\right)$"
          },
          "metadata": {},
          "execution_count": 25
        }
      ]
    },
    {
      "cell_type": "markdown",
      "source": [
        "# Function to input and give output fraction\n"
      ],
      "metadata": {
        "id": "a8pFzkadSvR9"
      }
    },
    {
      "cell_type": "code",
      "source": [
        "#input fraction into float\n",
        "def string_frac(in_string):\n",
        "    if \"/\" in in_string:\n",
        "        nd = in_string.split(\"/\")\n",
        "        n=float(nd[0])\n",
        "        d=float(nd[1])\n",
        "        ans=n/d\n",
        "        return ans\n",
        "    else:\n",
        "        ans=float(in_string)\n",
        "        return ans\n"
      ],
      "metadata": {
        "id": "DRlBT19FSzAR"
      },
      "execution_count": 28,
      "outputs": []
    }
  ]
}